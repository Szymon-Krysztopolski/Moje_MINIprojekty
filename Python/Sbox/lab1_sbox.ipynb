{
 "cells": [
  {
   "attachments": {},
   "cell_type": "markdown",
   "metadata": {},
   "source": [
    "## Substitution boxes analysis\n",
    "\n",
    "author: Szymon Krysztopolski 144619\n",
    "\n",
    "### Block ciphers\n",
    "In cryptography, one of the most popular types of cipers are block ciphers. These algorythms operate on fixed-length groups of bytes, called blocks. This type of ciphers is based on symmetric keys. The most popular types of block ciphers are DES (Data Endryption Standard) and AES (Advanced Encryption Standard).\n",
    "\n",
    "### S-box\n",
    "S-box is basis of block ciphers, it is kind of black-box. S-box is the only nonlinear element of a cipher. In block ciphers, they are typically used to obscure the relationship between the key and the ciphertext. Relation between input and output data is difficult to predict, since a small change in a single input bit has impact to about half of output bits.\n",
    "\n",
    "![](./img/sbox_table.png)\n",
    "\n",
    "![](./img/sbox_rule.jpg)"
   ]
  },
  {
   "cell_type": "code",
   "execution_count": 1,
   "metadata": {},
   "outputs": [],
   "source": [
    "import numpy as np\n",
    "\n",
    "FileName = \"sbox_08x08.sbx\"\n",
    "SBoxLen = 8\n",
    "SBoxFunLen = 256"
   ]
  },
  {
   "attachments": {},
   "cell_type": "markdown",
   "metadata": {},
   "source": [
    "We use `sbox_08x08.sbx` s-box file to analysis.\n",
    "\n",
    "![](./img/sbox8.png)"
   ]
  },
  {
   "cell_type": "code",
   "execution_count": 2,
   "metadata": {},
   "outputs": [],
   "source": [
    "def getbit(x: list, n: int) -> bool:\n",
    "    return x & (1 << n) and 1 or 0\n",
    "\n",
    "def bitfield(n: int, bits: int) -> list:\n",
    "    return [int(digit) for digit in (bin(n)[2:]).zfill(bits)]\n",
    "\n",
    "def generateFunctions(SBoxLen: int, SBoxFunLen: int) -> np.array:\n",
    "    return np.array([bitfield(i, SBoxLen) for i in range(SBoxFunLen)])"
   ]
  },
  {
   "cell_type": "code",
   "execution_count": 3,
   "metadata": {},
   "outputs": [],
   "source": [
    "def createFunctions() -> np.array:\n",
    "    with open(FileName, mode='rb') as file: \n",
    "        fileContent = file.read()\n",
    "    \n",
    "    resultTab = np.empty((0, SBoxFunLen), dtype=np.int32)\n",
    "    for i in range(SBoxLen):\n",
    "        nextFun = [int(getbit(fileContent[j], i)) for j in range(0, len(fileContent), 2)]\n",
    "        resultTab = np.append(resultTab, [np.array(nextFun)], axis=0)\n",
    "    \n",
    "    return resultTab"
   ]
  },
  {
   "cell_type": "code",
   "execution_count": 4,
   "metadata": {},
   "outputs": [
    {
     "name": "stdout",
     "output_type": "stream",
     "text": [
      "[128 128 128 128 128 128 128 128]\n"
     ]
    }
   ],
   "source": [
    "funArray = createFunctions()\n",
    "print(np.sum(funArray, axis=1))"
   ]
  },
  {
   "attachments": {},
   "cell_type": "markdown",
   "metadata": {},
   "source": [
    "Number of ones of every single function od equal to 128 (exactly half). This means that S-box is `balanced`."
   ]
  },
  {
   "cell_type": "code",
   "execution_count": 5,
   "metadata": {},
   "outputs": [],
   "source": [
    "def xorTree(bestScore: int, currentFun: np.array, testArray: np.array) -> float:\n",
    "    if testArray.shape[0] <= 1:\n",
    "        return np.inf\n",
    "\n",
    "    for i in range(len(testArray)):\n",
    "        newFunArray = np.bitwise_xor(currentFun, testArray[i])\n",
    "        bestScore = np.min([bestScore, np.sum(newFunArray), xorTree(bestScore, newFunArray, testArray[i+1:])])\n",
    "\n",
    "    return bestScore\n",
    "\n",
    "def xorTest(funArray: np.array) -> np.array:\n",
    "    resultArray = np.array([])\n",
    "    testArray = np.transpose(generateFunctions(SBoxLen, SBoxFunLen))\n",
    "\n",
    "    if len(testArray) != SBoxLen:\n",
    "        print(\"Error with shape!\")\n",
    "        exit(0)\n",
    "    \n",
    "    testArray = np.append(testArray, testArray^1, axis=0)\n",
    "\n",
    "    for fun in funArray:\n",
    "        resultArray = np.append(resultArray, [xorTree(np.inf, fun, testArray)], axis=0)\n",
    "    \n",
    "    return resultArray.astype(\"int32\")"
   ]
  },
  {
   "attachments": {},
   "cell_type": "markdown",
   "metadata": {},
   "source": [
    "In order to test the sbox located into our file, we had to determine `Hamming Distance`. This is the minumum number of ones between each function and each posible output function. Algorythm which I prepared, is based on recursion. For each function, the xor function is examined, and it is checked whether the value of the ones is less than the currently smallest value. At each step, combinations based on the current modified function are also compared. Algorythm passes to next recursive steps only consecutive functions (order is established at the beginnig). This is because we want to avoid additional calculations of the same values. `None` value is representation of stopping state.\n",
    "\n",
    "![](./img/sbox_alg.jpg)"
   ]
  },
  {
   "cell_type": "code",
   "execution_count": 6,
   "metadata": {},
   "outputs": [
    {
     "name": "stdout",
     "output_type": "stream",
     "text": [
      "[112 112 110 110 110 112 110 110]\n"
     ]
    }
   ],
   "source": [
    "print(xorTest(funArray))"
   ]
  },
  {
   "attachments": {},
   "cell_type": "markdown",
   "metadata": {},
   "source": [
    "For each function, we got a value 112 or 110 which was expected."
   ]
  },
  {
   "cell_type": "code",
   "execution_count": 7,
   "metadata": {},
   "outputs": [],
   "source": [
    "# def main():\n",
    "#     funArray = createFunctions()\n",
    "#     print(np.sum(funArray, axis=1))\n",
    "#     print(xorTest(funArray))\n",
    "\n",
    "# if __name__ == \"__main__\":\n",
    "#     main()"
   ]
  },
  {
   "attachments": {},
   "cell_type": "markdown",
   "metadata": {},
   "source": [
    "### Souces\n",
    "* https://www.geeksforgeeks.org/difference-between-aes-and-des-ciphers/\n",
    "* https://en.wikipedia.org/wiki/S-box\n",
    "\n"
   ]
  }
 ],
 "metadata": {
  "kernelspec": {
   "display_name": "Python 3",
   "language": "python",
   "name": "python3"
  },
  "language_info": {
   "codemirror_mode": {
    "name": "ipython",
    "version": 3
   },
   "file_extension": ".py",
   "mimetype": "text/x-python",
   "name": "python",
   "nbconvert_exporter": "python",
   "pygments_lexer": "ipython3",
   "version": "3.11.0"
  },
  "orig_nbformat": 4,
  "vscode": {
   "interpreter": {
    "hash": "c261aea317cc0286b3b3261fbba9abdec21eaa57589985bb7a274bf54d6cc0a7"
   }
  }
 },
 "nbformat": 4,
 "nbformat_minor": 2
}
