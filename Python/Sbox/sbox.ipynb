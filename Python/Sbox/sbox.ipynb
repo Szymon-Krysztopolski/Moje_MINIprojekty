{
 "cells": [
  {
   "attachments": {},
   "cell_type": "markdown",
   "metadata": {},
   "source": [
    "## Substitution boxes analysis\n",
    "\n",
    "author: Szymon Krysztopolski 144619\n",
    "\n",
    "### Block ciphers\n",
    "In cryptography, one of the most popular types of cipers are block ciphers. These algorythms operate on fixed-length groups of bytes, called blocks. This type of ciphers is based on symmetric keys. The most popular types of block ciphers are DES (Data Endryption Standard) and AES (Advanced Encryption Standard).\n",
    "\n",
    "### S-box\n",
    "S-box is basis of block ciphers, it is kind of black-box. S-box is the only nonlinear element of a cipher. In block ciphers, they are typically used to obscure the relationship between the key and the ciphertext. Relation between input and output data is difficult to predict, since a small change in a single input bit has impact to about half of output bits.\n",
    "\n",
    "![](./img/sbox_table.png)\n",
    "\n",
    "![](./img/sbox_rule.jpg)"
   ]
  },
  {
   "cell_type": "code",
   "execution_count": 205,
   "metadata": {},
   "outputs": [],
   "source": [
    "import numpy as np\n",
    "from PIL import Image\n",
    "import itertools\n",
    "import random\n",
    "import matplotlib.pyplot as plt\n",
    "\n",
    "FileName = \"sbox_08x08.sbx\"\n",
    "SBoxLen = 8\n",
    "SBoxFunLen = 256"
   ]
  },
  {
   "attachments": {},
   "cell_type": "markdown",
   "metadata": {},
   "source": [
    "We use `sbox_08x08.sbx` s-box file to analysis.\n",
    "\n",
    "![](./img/sbox8.png)\n",
    "\n",
    "Number of ones of every single function od equal to 128 (exactly half). This means that S-box is `balanced`."
   ]
  },
  {
   "cell_type": "code",
   "execution_count": 206,
   "metadata": {},
   "outputs": [],
   "source": [
    "def getbit(x: list, n: int) -> bool:\n",
    "    return x & (1 << n) and 1 or 0\n",
    "\n",
    "def bitfield(n: int, bits: int) -> list:\n",
    "    return [int(digit) for digit in (bin(n)[2:]).zfill(bits)]\n",
    "\n",
    "def generateDefauldFunctions(SBoxLen: int, SBoxFunLen: int) -> np.array:\n",
    "    return np.array([bitfield(i, SBoxLen) for i in range(SBoxFunLen)])"
   ]
  },
  {
   "cell_type": "code",
   "execution_count": 207,
   "metadata": {},
   "outputs": [
    {
     "name": "stdout",
     "output_type": "stream",
     "text": [
      "[128 128 128 128 128 128 128 128]\n"
     ]
    }
   ],
   "source": [
    "def createFunctions(isFile: bool, contentInfo) -> np.array: #contentInfo => filename:str if file, else content:np.array\n",
    "    if isFile:\n",
    "        with open(contentInfo, mode='rb') as file: \n",
    "            fileContent = file.read()\n",
    "    else:\n",
    "        fileContent = contentInfo\n",
    "    \n",
    "    resultTab = np.empty((0, SBoxFunLen), dtype=np.int32)\n",
    "    for i in range(SBoxLen):\n",
    "        nextFun = [int(getbit(fileContent[j], i)) for j in range(0, len(fileContent), 2)]\n",
    "        resultTab = np.append(resultTab, [np.array(nextFun)], axis=0)\n",
    "    \n",
    "    return resultTab\n",
    "\n",
    "funArray = createFunctions(True, FileName)\n",
    "print(np.sum(funArray, axis=1))"
   ]
  },
  {
   "attachments": {},
   "cell_type": "markdown",
   "metadata": {},
   "source": [
    "In order to test the sbox located into our file, we had to determine `Hamming Distance`. This is the minumum number of ones between each function and each posible output function. Algorythm which I prepared, is based on recursion. For each function, the xor function is examined, and it is checked whether the value of the ones is less than the currently smallest value. At each step, combinations based on the current modified function are also compared. Algorythm passes to next recursive steps only consecutive functions (order is established at the beginnig). This is because we want to avoid additional calculations of the same values. `None` value is representation of stopping state.\n",
    "\n",
    "![](./img/sbox_alg.jpg)\n",
    "\n",
    "For each function, we got a value 112 or 110 which was expected."
   ]
  },
  {
   "cell_type": "code",
   "execution_count": 208,
   "metadata": {},
   "outputs": [
    {
     "name": "stdout",
     "output_type": "stream",
     "text": [
      "[112 112 110 110 110 112 110 110]\n"
     ]
    }
   ],
   "source": [
    "def hDistTree(bestScore: int, currentFun: np.array, testArray: np.array) -> float:\n",
    "    if testArray.shape[0] <= 1:\n",
    "        return np.inf\n",
    "\n",
    "    for i in range(len(testArray)):\n",
    "        newFunArray = np.bitwise_xor(currentFun, testArray[i])\n",
    "        bestScore = np.min([bestScore, np.sum(newFunArray), hDistTree(bestScore, newFunArray, testArray[i+1:])])\n",
    "\n",
    "    return bestScore\n",
    "\n",
    "def hDistTest(funArray: np.array) -> np.array:\n",
    "    resultArray = np.array([])\n",
    "    testArray = np.transpose(generateDefauldFunctions(SBoxLen, SBoxFunLen))\n",
    "\n",
    "    if len(testArray) != SBoxLen:\n",
    "        print(\"Error with shape!\")\n",
    "        exit(0)\n",
    "    \n",
    "    testArray = np.append(testArray, testArray^1, axis=0)\n",
    "\n",
    "    for fun in funArray:\n",
    "        resultArray = np.append(resultArray, [hDistTree(np.inf, fun, testArray)], axis=0)\n",
    "    \n",
    "    return resultArray.astype(\"int32\")\n",
    "\n",
    "print(hDistTest(funArray))"
   ]
  },
  {
   "attachments": {},
   "cell_type": "markdown",
   "metadata": {},
   "source": [
    "## SAC Test"
   ]
  },
  {
   "cell_type": "code",
   "execution_count": 209,
   "metadata": {},
   "outputs": [
    {
     "name": "stdout",
     "output_type": "stream",
     "text": [
      "Probability of change: 0.50048828125\n"
     ]
    }
   ],
   "source": [
    "def sacTest(funArray: np.array) -> np.float64:\n",
    "    sacArray = np.zeros((funArray.shape[0], funArray.shape[1]))\n",
    "    testArray = generateDefauldFunctions(SBoxLen, SBoxFunLen)\n",
    "\n",
    "    sboxStates = funArray.shape[0]\n",
    "    sboxLen = funArray.shape[1]\n",
    "\n",
    "    masks = np.zeros((sboxStates, sboxStates), dtype=np.int32)\n",
    "    for i in range(sboxStates):\n",
    "        masks[i][sboxStates - 1 - i] = 1\n",
    "    \n",
    "    resultArray = np.array([])\n",
    "\n",
    "    for i in range(sboxStates): # For each Sbox function\n",
    "        for mask in masks:\n",
    "            testArrayWithMask = [np.bitwise_xor(testArray[j], mask) for j in range(testArray.shape[0])]\n",
    "\n",
    "            newFunArrayIndex = np.array([], dtype=np.int32)\n",
    "            for testFun in testArrayWithMask:\n",
    "                newFunArrayIndex = np.append(newFunArrayIndex, np.packbits(testFun), axis=0)\n",
    "\n",
    "            newFunArray = [funArray[i][newFunArrayIndex[j]] for j in range(sboxLen)]\n",
    "\n",
    "            resultWithAlpha = np.bitwise_xor(funArray[i], newFunArray)\n",
    "            resultArray = np.append(resultArray, np.mean(resultWithAlpha))\n",
    "            sacArray[i] += resultWithAlpha\n",
    "\n",
    "    statesMean = np.mean(sacArray / sboxStates, axis=1)\n",
    "\n",
    "    #print(f\"{resultArray} \\n\\n {np.around(statesMean, 4)} \\n\")\n",
    "    return np.mean(statesMean)\n",
    "\n",
    "print(f\"Probability of change: {sacTest(funArray)}\")"
   ]
  },
  {
   "attachments": {},
   "cell_type": "markdown",
   "metadata": {},
   "source": [
    "# XOR Profile"
   ]
  },
  {
   "cell_type": "code",
   "execution_count": 210,
   "metadata": {},
   "outputs": [
    {
     "name": "stdout",
     "output_type": "stream",
     "text": [
      "XOR profile: 6\n"
     ]
    }
   ],
   "source": [
    "SboxRows = SBoxFunLen\n",
    "\n",
    "def createSboxMatrix(isFile: bool, contentInfo) -> np.array: #contentInfo => filename:str if file, else content:np.array\n",
    "    if isFile:\n",
    "        with open(contentInfo, mode='rb') as file: \n",
    "            fileContent = file.read()\n",
    "    else:\n",
    "        fileContent = contentInfo\n",
    "    \n",
    "    resultTab = np.array([], dtype=np.int32)\n",
    "    for i in range(0, len(fileContent), 2):\n",
    "        resultTab = np.append(resultTab, [np.array(fileContent[i])], axis=0)\n",
    "    \n",
    "    return resultTab\n",
    "\n",
    "def xorTest(isFile: bool, contentInfo) -> np.array: \n",
    "    SboxArray = createSboxMatrix(isFile, contentInfo)\n",
    "    allCombLen = SboxArray.shape[0]\n",
    "\n",
    "    resultArray = np.zeros(((allCombLen, allCombLen)), dtype=np.int32)\n",
    "\n",
    "    for i in range(allCombLen):\n",
    "        row1 = SboxArray[i]\n",
    "        for j in range(i+1, allCombLen):\n",
    "            row2 = SboxArray[j]\n",
    "            resultArray[i^j][row1^row2] += 2\n",
    "\n",
    "    xorTable = np.max(resultArray, axis=1)\n",
    "    #print(xorTable)\n",
    "    \n",
    "    return np.max(xorTable)\n",
    "\n",
    "print(f\"XOR profile: {xorTest(True, FileName)}\")"
   ]
  },
  {
   "attachments": {},
   "cell_type": "markdown",
   "metadata": {},
   "source": [
    "# Cycle Test"
   ]
  },
  {
   "cell_type": "code",
   "execution_count": 211,
   "metadata": {},
   "outputs": [
    {
     "data": {
      "text/plain": [
       "1"
      ]
     },
     "execution_count": 211,
     "metadata": {},
     "output_type": "execute_result"
    }
   ],
   "source": [
    "def cycleTest(isFile: bool, contentInfo) -> np.array:\n",
    "    SboxArray = createSboxMatrix(isFile, contentInfo)\n",
    "    allCombLen = SboxArray.shape[0]\n",
    "\n",
    "    checked = np.zeros((allCombLen,), dtype=bool)\n",
    "    cycles = 0\n",
    "\n",
    "    for i in range(allCombLen):\n",
    "        if checked[i] == False:\n",
    "            cycles += 1\n",
    "            next = SboxArray[i]\n",
    "            while(checked[next] != True):\n",
    "                checked[next] = True\n",
    "                next = SboxArray[next]\n",
    "    return cycles\n",
    "\n",
    "cycleTest(True, FileName)"
   ]
  },
  {
   "attachments": {},
   "cell_type": "markdown",
   "metadata": {},
   "source": [
    "# Image encryption"
   ]
  },
  {
   "cell_type": "code",
   "execution_count": 212,
   "metadata": {},
   "outputs": [],
   "source": [
    "SboxArray = createSboxMatrix(True, FileName)\n",
    "PathInput = \"img/1.input/\"\n",
    "PathEnc = \"img/2.encryption/\"\n",
    "PathDec = \"img/3.decryption/\"\n",
    "\n",
    "def imgEncryptSbox(input, output, mode, isSimple=True, format=\"BMP\"): # if mode == True then Encrypt\n",
    "    random.seed(42)\n",
    "    bmpImage = np.array(Image.open(input))\n",
    "\n",
    "    for row, col, channel in itertools.product(*[range(sh) for sh in bmpImage.shape]):\n",
    "        chValue = bmpImage[row, col, channel]\n",
    "        randomInt = 0 if isSimple else random.randint(0, 255)\n",
    "\n",
    "        bmpImage[row, col, channel] = (SboxArray[chValue] ^ randomInt) if mode else np.where(SboxArray == (chValue ^ randomInt))[0]\n",
    "\n",
    "    Image.fromarray(bmpImage).save(output, format=format)\n"
   ]
  },
  {
   "cell_type": "code",
   "execution_count": 213,
   "metadata": {},
   "outputs": [],
   "source": [
    "imagesToEncrypt = [\"tux.bmp\", \"field.bmp\", \"blackbuck.bmp\"]\n",
    "for img in imagesToEncrypt:\n",
    "    imgEncryptSbox(PathInput + img, PathEnc + \"s_\" + img, True)\n",
    "    imgEncryptSbox(PathEnc + \"s_\" + img, PathDec + \"s_\" + img, False)\n",
    "\n",
    "    imgEncryptSbox(PathInput + img, PathEnc + \"c_\" + img, True, False)\n",
    "    imgEncryptSbox(PathEnc + \"c_\" + img, PathDec + \"c_\" + img, False, False)"
   ]
  },
  {
   "attachments": {},
   "cell_type": "markdown",
   "metadata": {},
   "source": [
    "## Result of image encryption\n",
    "\n",
    "![tux](./img/1.input/tux.bmp)\n",
    "![tux](./img/2.encryption/s_tux.bmp)\n",
    "![tux](./img/2.encryption/c_tux.bmp)\n",
    "\n",
    "<img src=\"./img/1.input/field.bmp\"  width=\"400\" height=\"200\">\n",
    "<img src=\"./img/2.encryption/s_field.bmp\"  width=\"400\" height=\"200\">\n",
    "<img src=\"./img/2.encryption/c_field.bmp\"  width=\"400\" height=\"200\">\n",
    "\n",
    "<img src=\"./img/1.input/blackbuck.bmp\"  width=\"400\" height=\"300\">\n",
    "<img src=\"./img/2.encryption/s_blackbuck.bmp\"  width=\"400\" height=\"300\">\n",
    "<img src=\"./img/2.encryption/c_blackbuck.bmp\"  width=\"400\" height=\"300\">"
   ]
  },
  {
   "attachments": {},
   "cell_type": "markdown",
   "metadata": {},
   "source": [
    "# Random S-boxes\n",
    "\n",
    "todo \\\n",
    "NL (110, 112) min \\\n",
    "SAC (ok. 50%) \\\n",
    "XOR (6,4) max \\\n",
    "cycles"
   ]
  },
  {
   "cell_type": "code",
   "execution_count": 217,
   "metadata": {},
   "outputs": [
    {
     "name": "stdout",
     "output_type": "stream",
     "text": [
      "[[ 50   0  21 ...   0   8   0]\n",
      " [241   0  96 ...   0 203   0]\n",
      " [ 30   0 253 ...   0 226   0]\n",
      " ...\n",
      " [176   0 141 ...   0 161   0]\n",
      " [236   0 251 ...   0  58   0]\n",
      " [189   0 187 ...   0 174   0]]\n"
     ]
    }
   ],
   "source": [
    "sboxBase = list(range(256))\n",
    "sboxRandomList = []\n",
    "sboxRandomNum = 100\n",
    "\n",
    "for _ in range(sboxRandomNum):\n",
    "    random.shuffle(sboxBase)\n",
    "\n",
    "    nextSbox = sboxBase.copy()\n",
    "    for i in range(len(2*nextSbox)):\n",
    "        nextSbox.insert(i, 0) if i % 2 == 1 else None\n",
    "\n",
    "    sboxRandomList.append(nextSbox)\n",
    "sboxRandomList = np.array(sboxRandomList)\n",
    "\n",
    "print(sboxRandomList)"
   ]
  },
  {
   "cell_type": "code",
   "execution_count": 218,
   "metadata": {},
   "outputs": [
    {
     "name": "stdout",
     "output_type": "stream",
     "text": [
      "[ 94.  94. 102.  94. 102. 104.  98.  96.  98.  96. 102. 100. 100. 100.\n",
      " 102. 100.  98. 100.  94. 102. 100. 100. 102. 100.  96. 100. 100. 100.\n",
      "  98. 100.  98.  96. 100. 100. 100. 102. 100. 102. 100. 100. 102. 100.\n",
      "  98. 100.  96. 100. 100. 100.  96. 102.  98.  98.  96.  94.  96.  98.\n",
      " 100.  96. 100. 100.  98. 100.  96.  94.  94. 102. 102. 100. 100. 102.\n",
      "  98. 100. 100.  96.  98.  96.  96. 102. 102. 104. 102.  96.  98.  98.\n",
      " 100.  96. 102.  98. 102. 104.  96. 100. 100.  98.  98. 100.  98.  98.\n",
      "  96.  98.]\n",
      "[0.50048828 0.50463867 0.49804688 0.50097656 0.5065918  0.50439453\n",
      " 0.5        0.50024414 0.49633789 0.51025391 0.50805664 0.50317383\n",
      " 0.49780273 0.50268555 0.51123047 0.50048828 0.50585938 0.49682617\n",
      " 0.50366211 0.50341797 0.50537109 0.51708984 0.50488281 0.50219727\n",
      " 0.49584961 0.49658203 0.51318359 0.49169922 0.50854492 0.5\n",
      " 0.50561523 0.50097656 0.49584961 0.49951172 0.5090332  0.50708008\n",
      " 0.50195312 0.49658203 0.50244141 0.50488281 0.50341797 0.49755859\n",
      " 0.50048828 0.49951172 0.50292969 0.49633789 0.50537109 0.49755859\n",
      " 0.5090332  0.50024414 0.49951172 0.50512695 0.50317383 0.51220703\n",
      " 0.50488281 0.50219727 0.49780273 0.49414062 0.50219727 0.50854492\n",
      " 0.50610352 0.50097656 0.49633789 0.50585938 0.49707031 0.49609375\n",
      " 0.49291992 0.50317383 0.50415039 0.50244141 0.50708008 0.49438477\n",
      " 0.50927734 0.49951172 0.50292969 0.50048828 0.50683594 0.50585938\n",
      " 0.50366211 0.49804688 0.50634766 0.50683594 0.5012207  0.50439453\n",
      " 0.50488281 0.50708008 0.50244141 0.49145508 0.49365234 0.50219727\n",
      " 0.50708008 0.5090332  0.50341797 0.49951172 0.50146484 0.50073242\n",
      " 0.515625   0.49682617 0.51489258 0.49975586]\n",
      "[12. 10. 10. 12. 10. 10. 12. 12. 12. 12. 10. 12. 12. 12. 10. 12. 12. 12.\n",
      " 10. 10. 10. 12. 12. 10. 14. 12. 12. 12. 10. 12. 10. 10. 10. 10. 12. 12.\n",
      " 10. 12. 10. 12. 10. 10. 12. 10. 12. 12. 12. 12. 16. 10. 10. 10. 10. 12.\n",
      " 12. 10. 10. 10. 12. 12. 14. 10. 10. 10. 10. 10. 12. 10. 12. 12. 10. 10.\n",
      " 12. 12. 10. 10. 14. 12. 12. 10. 12. 12. 12. 10. 12. 12. 10. 12. 12. 12.\n",
      " 10. 12. 10. 10. 12. 10. 12. 10. 12. 12.]\n",
      "[ 5.  3.  7.  6.  6.  6.  5.  4.  4.  3.  8.  8.  5.  6.  7.  5. 10.  5.\n",
      "  6.  6.  6.  5.  2.  5. 12.  4.  6.  7.  4.  4.  5.  4.  5.  5.  8.  7.\n",
      "  8.  9.  5.  3.  4.  5.  4.  9.  6.  4.  3. 11.  4.  6.  8.  6.  7.  7.\n",
      "  6.  9.  7.  4.  7.  9.  7.  8.  2.  3.  5.  5. 10.  8.  8.  5.  6.  4.\n",
      " 11.  8.  3.  6. 11. 10.  4.  8.  4.  6.  5.  8.  8.  6.  8.  5.  2.  8.\n",
      "  9.  5.  7.  3.  7.  9.  3.  5.  6.  6.]\n"
     ]
    }
   ],
   "source": [
    "sboxRandomListInfoNL = np.array([])\n",
    "sboxRandomListInfoSAC = np.array([])\n",
    "sboxRandomListInfoXOR = np.array([])\n",
    "sboxRandomListInfoCycle = np.array([])\n",
    "\n",
    "for sbox in sboxRandomList:\n",
    "    sboxFun = createFunctions(False, sbox)\n",
    "    sboxFunNL = min(hDistTest(sboxFun))\n",
    "    sboxRandomListInfoNL = np.append(sboxRandomListInfoNL, [sboxFunNL])\n",
    "\n",
    "    sboxFunSAC = sacTest(sboxFun)\n",
    "    sboxRandomListInfoSAC = np.append(sboxRandomListInfoSAC, [sboxFunSAC])\n",
    "\n",
    "    sboxXOR = xorTest(False, sbox)\n",
    "    sboxRandomListInfoXOR = np.append(sboxRandomListInfoXOR, [sboxXOR])\n",
    "\n",
    "    sboxCycle = cycleTest(False, sbox)\n",
    "    sboxRandomListInfoCycle = np.append(sboxRandomListInfoCycle, [sboxCycle])\n",
    "\n",
    "print(sboxRandomListInfoNL)\n",
    "print(sboxRandomListInfoSAC)\n",
    "print(sboxRandomListInfoXOR)\n",
    "print(sboxRandomListInfoCycle)"
   ]
  },
  {
   "cell_type": "code",
   "execution_count": 224,
   "metadata": {},
   "outputs": [
    {
     "data": {
      "image/png": "[encoded data removed]",
      "text/plain": [
       "<Figure size 1200x800 with 4 Axes>"
      ]
     },
     "metadata": {},
     "output_type": "display_data"
    }
   ],
   "source": [
    "fig, axs = plt.subplots(2, 2, figsize=(12, 8))\n",
    "\n",
    "histTitles = ['Nonlinearity plot', 'SAC plot', 'XOR plot', 'cycle plot']\n",
    "histData = [sboxRandomListInfoNL, sboxRandomListInfoSAC, sboxRandomListInfoXOR, sboxRandomListInfoCycle]\n",
    "axis = [(0, 0), (0, 1), (1, 0), (1, 1)]\n",
    "\n",
    "\n",
    "for (testText, value, pos) in zip(histTitles, histData, axis):\n",
    "    axs[pos[0], pos[1]].hist(value)\n",
    "    axs[pos[0], pos[1]].set(title=testText)\n",
    "\n",
    "plt.show()\n"
   ]
  },
  {
   "attachments": {},
   "cell_type": "markdown",
   "metadata": {},
   "source": [
    "---\n",
    "---\n",
    "---"
   ]
  },
  {
   "attachments": {},
   "cell_type": "markdown",
   "metadata": {},
   "source": [
    "### Souces\n",
    "* https://www.geeksforgeeks.org/difference-between-aes-and-des-ciphers/\n",
    "* https://en.wikipedia.org/wiki/S-box\n",
    "\n"
   ]
  }
 ],
 "metadata": {
  "kernelspec": {
   "display_name": "Python 3",
   "language": "python",
   "name": "python3"
  },
  "language_info": {
   "codemirror_mode": {
    "name": "ipython",
    "version": 3
   },
   "file_extension": ".py",
   "mimetype": "text/x-python",
   "name": "python",
   "nbconvert_exporter": "python",
   "pygments_lexer": "ipython3",
   "version": "3.10.10"
  },
  "orig_nbformat": 4,
  "vscode": {
   "interpreter": {
    "hash": "c261aea317cc0286b3b3261fbba9abdec21eaa57589985bb7a274bf54d6cc0a7"
   }
  }
 },
 "nbformat": 4,
 "nbformat_minor": 2
}
