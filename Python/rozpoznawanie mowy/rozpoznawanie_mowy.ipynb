{
 "cells": [
  {
   "cell_type": "code",
   "execution_count": 5,
   "metadata": {},
   "outputs": [],
   "source": [
    "import numpy as np\n",
    "import scipy.io.wavfile\n",
    "import os.path"
   ]
  },
  {
   "cell_type": "code",
   "execution_count": 6,
   "metadata": {},
   "outputs": [],
   "source": [
    "def recognize_voice(w,signal,border):\n",
    "    signal=np.array(signal).astype(np.float64)\n",
    "    \n",
    "    if signal.ndim>1:\n",
    "        signal = [s[0] for s in signal]\n",
    "        signal*=np.hamming(len(signal))\n",
    "\n",
    "\n",
    "    ceps=np.fft.fft(np.log(abs(np.fft.fft(signal))))\n",
    "    tmp=max(ceps)\n",
    "\n",
    "    if tmp > border:\n",
    "        result='K'\n",
    "    else:\n",
    "        result='M'\n",
    "    return result"
   ]
  },
  {
   "cell_type": "code",
   "execution_count": 7,
   "metadata": {},
   "outputs": [],
   "source": [
    "def num_generator(i):\n",
    "    if i < 10:\n",
    "        return \"00\"+str(i)\n",
    "    elif i<100:\n",
    "        return \"0\"+str(i)\n",
    "\n",
    "def main(border):\n",
    "    folder_na_dane=\"dane\"\n",
    "    matrix_of_res=[[0,0],[0,0]]\n",
    "    options=['K','M']\n",
    "    \n",
    "    good=0\n",
    "    bad=0\n",
    "    n=100\n",
    "    \n",
    "    for i in range(n):\n",
    "        good_path=0\n",
    "        for s in options:\n",
    "            num=num_generator(i)\n",
    "            path=folder_na_dane+\"/\"+num+\"_\"+s+\".wav\"\n",
    "            if os.path.exists(path):\n",
    "                good_path=1\n",
    "                break\n",
    "        if good_path==1:\n",
    "            w, signal = scipy.io.wavfile.read(path)\n",
    "            res=recognize_voice(w,signal,border)\n",
    "            if  (s=='K' and s==res):\n",
    "                matrix_of_res[0][0]+=1\n",
    "            elif(s=='K' and s!=res):\n",
    "                matrix_of_res[0][1]+=1\n",
    "            elif(s=='M' and s==res):\n",
    "                matrix_of_res[1][1]+=1\n",
    "            elif(s=='M' and s!=res):\n",
    "                matrix_of_res[1][0]+=1\n",
    "            \n",
    "            if(s==res):\n",
    "                good+=1\n",
    "            else:\n",
    "                bad+=1\n",
    "    print(options)\n",
    "    for i in range(2):\n",
    "        print(options[i],matrix_of_res[i])\n",
    "    print(good,bad,border,'\\n')"
   ]
  },
  {
   "cell_type": "code",
   "execution_count": 8,
   "metadata": {},
   "outputs": [
    {
     "name": "stderr",
     "output_type": "stream",
     "text": [
      "<ipython-input-7-58253f705519>:25: WavFileWarning: Reached EOF prematurely; finished at 613916 bytes, expected 613924 bytes from header.\n",
      "  w, signal = scipy.io.wavfile.read(path)\n",
      "<ipython-input-7-58253f705519>:25: WavFileWarning: Chunk (non-data) not understood, skipping it.\n",
      "  w, signal = scipy.io.wavfile.read(path)\n"
     ]
    },
    {
     "name": "stdout",
     "output_type": "stream",
     "text": [
      "['K', 'M']\n",
      "K [40, 6]\n",
      "M [34, 11]\n",
      "51 40 950000 \n",
      "\n"
     ]
    }
   ],
   "source": [
    "if __name__ == '__main__':\n",
    "    main(950000)\n",
    "    #0208633    0200000\n",
    "    #5490375    5500000\n",
    "    #950000 51"
   ]
  }
 ],
 "metadata": {
  "kernelspec": {
   "display_name": "Python 3",
   "language": "python",
   "name": "python3"
  },
  "language_info": {
   "codemirror_mode": {
    "name": "ipython",
    "version": 3
   },
   "file_extension": ".py",
   "mimetype": "text/x-python",
   "name": "python",
   "nbconvert_exporter": "python",
   "pygments_lexer": "ipython3",
   "version": "3.8.8"
  },
  "latex_envs": {
   "LaTeX_envs_menu_present": true,
   "autoclose": false,
   "autocomplete": true,
   "bibliofile": "biblio.bib",
   "cite_by": "apalike",
   "current_citInitial": 1,
   "eqLabelWithNumbers": true,
   "eqNumInitial": 1,
   "hotkeys": {
    "equation": "Ctrl-E",
    "itemize": "Ctrl-I"
   },
   "labels_anchors": false,
   "latex_user_defs": false,
   "report_style_numbering": false,
   "user_envs_cfg": false
  }
 },
 "nbformat": 4,
 "nbformat_minor": 4
}
