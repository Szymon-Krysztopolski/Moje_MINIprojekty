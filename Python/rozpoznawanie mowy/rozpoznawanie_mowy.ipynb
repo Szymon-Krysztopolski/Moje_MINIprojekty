{
 "cells": [
  {
   "cell_type": "code",
   "execution_count": 1,
   "metadata": {},
   "outputs": [],
   "source": [
    "import numpy as np\n",
    "import scipy.io.wavfile\n",
    "import os.path"
   ]
  },
  {
   "cell_type": "code",
   "execution_count": 2,
   "metadata": {},
   "outputs": [],
   "source": [
    "def HPS(w,signal):\n",
    "    signal=np.array(signal).astype(np.float64)\n",
    "    if signal.ndim>1:\n",
    "        signal = [s[0] for s in signal]\n",
    "    \n",
    "    men_min=70\n",
    "    freq_middle=160\n",
    "    \n",
    "    parts=[]\n",
    "    downsamples=5\n",
    "    signal_len=len(signal)\n",
    "    frames=5\n",
    "    \n",
    "    \n",
    "    for f in range(frames):\n",
    "        sig=signal[int(f*signal_len/frames) : int((f+1)*signal_len/frames)]\n",
    "        freq=np.fft.fftfreq(len(sig),1/w)\n",
    "        \n",
    "        sig*=np.hamming(len(sig))\n",
    "        fft=abs(np.fft.fft(sig))\n",
    "        fft[freq<men_min]=0\n",
    "\n",
    "        fft2=np.copy(fft)\n",
    "        for i in range(downsamples):\n",
    "            tmp=np.copy(fft[::(i+1)])\n",
    "            fft2=fft2[:len(tmp)]\n",
    "            fft2*=tmp\n",
    "        \n",
    "        index=np.argmax(fft[:len(fft2)]*fft2)\n",
    "        parts.append(freq[index]>freq_middle)\n",
    "        \n",
    "    if(sum(parts)>frames/2):\n",
    "        return 'K'\n",
    "    else:\n",
    "        return 'M'"
   ]
  },
  {
   "cell_type": "code",
   "execution_count": 3,
   "metadata": {},
   "outputs": [],
   "source": [
    "def num_generator(i):\n",
    "    if i < 10:\n",
    "        return \"00\"+str(i)\n",
    "    elif i<100:\n",
    "        return \"0\"+str(i)\n",
    "    else:\n",
    "        return \"err\"\n",
    "\n",
    "def main():\n",
    "    folder_na_dane=\"dane\"\n",
    "    matrix_of_res=[[0,0],[0,0]]\n",
    "    options=['K','M']\n",
    "    \n",
    "    good=0\n",
    "    bad=0\n",
    "    n=100\n",
    "    \n",
    "    for i in range(n+1):\n",
    "        good_path=0\n",
    "        for s in options:\n",
    "            num=num_generator(i)\n",
    "            path=folder_na_dane+\"/\"+num+\"_\"+s+\".wav\"\n",
    "            if os.path.exists(path):\n",
    "                good_path=1\n",
    "                break\n",
    "        if good_path==1:\n",
    "            w, signal = scipy.io.wavfile.read(path)\n",
    "            res=HPS(w,signal)\n",
    "            \n",
    "            if  (s=='K' and s==res):\n",
    "                matrix_of_res[0][0]+=1\n",
    "            elif(s=='K' and s!=res):\n",
    "                matrix_of_res[0][1]+=1\n",
    "            elif(s=='M' and s==res):\n",
    "                matrix_of_res[1][1]+=1\n",
    "            elif(s=='M' and s!=res):\n",
    "                matrix_of_res[1][0]+=1\n",
    "            \n",
    "            if(s==res):\n",
    "                good+=1\n",
    "            else:\n",
    "                bad+=1\n",
    "    print(options)\n",
    "    for i in range(2):\n",
    "        print(options[i],matrix_of_res[i])\n",
    "    print(good,bad,'\\n')"
   ]
  },
  {
   "cell_type": "code",
   "execution_count": 4,
   "metadata": {},
   "outputs": [
    {
     "name": "stderr",
     "output_type": "stream",
     "text": [
      "<ipython-input-3-9c30da10307b>:27: WavFileWarning: Reached EOF prematurely; finished at 613916 bytes, expected 613924 bytes from header.\n",
      "  w, signal = scipy.io.wavfile.read(path)\n",
      "<ipython-input-3-9c30da10307b>:27: WavFileWarning: Chunk (non-data) not understood, skipping it.\n",
      "  w, signal = scipy.io.wavfile.read(path)\n"
     ]
    },
    {
     "name": "stdout",
     "output_type": "stream",
     "text": [
      "['K', 'M']\n",
      "K [42, 4]\n",
      "M [5, 40]\n",
      "82 9 \n",
      "\n"
     ]
    }
   ],
   "source": [
    "if __name__ == '__main__':\n",
    "    main()"
   ]
  }
 ],
 "metadata": {
  "kernelspec": {
   "display_name": "Python 3",
   "language": "python",
   "name": "python3"
  },
  "language_info": {
   "codemirror_mode": {
    "name": "ipython",
    "version": 3
   },
   "file_extension": ".py",
   "mimetype": "text/x-python",
   "name": "python",
   "nbconvert_exporter": "python",
   "pygments_lexer": "ipython3",
   "version": "3.10.2"
  },
  "latex_envs": {
   "LaTeX_envs_menu_present": true,
   "autoclose": false,
   "autocomplete": true,
   "bibliofile": "biblio.bib",
   "cite_by": "apalike",
   "current_citInitial": 1,
   "eqLabelWithNumbers": true,
   "eqNumInitial": 1,
   "hotkeys": {
    "equation": "Ctrl-E",
    "itemize": "Ctrl-I"
   },
   "labels_anchors": false,
   "latex_user_defs": false,
   "report_style_numbering": false,
   "user_envs_cfg": false
  }
 },
 "nbformat": 4,
 "nbformat_minor": 4
}
